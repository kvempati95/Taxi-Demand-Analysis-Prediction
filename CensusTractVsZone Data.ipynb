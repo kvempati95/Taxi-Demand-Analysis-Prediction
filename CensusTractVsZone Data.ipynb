{
 "cells": [
  {
   "cell_type": "code",
   "execution_count": 21,
   "id": "56986835",
   "metadata": {},
   "outputs": [],
   "source": [
    "## Fetching Data at Census Tract Level based on Location using GEO PANDAS for taxi data \n",
    "## and identifying which list of census tracts under each zone"
   ]
  },
  {
   "cell_type": "code",
   "execution_count": 1,
   "id": "b57874b2",
   "metadata": {},
   "outputs": [],
   "source": [
    "##Install GEO-PANADS\n",
    "import geopandas as gpd\n",
    "import pandas as pd\n",
    "from shapely.geometry import Point"
   ]
  },
  {
   "cell_type": "code",
   "execution_count": 41,
   "id": "f4037416",
   "metadata": {},
   "outputs": [],
   "source": [
    "census = r\"/Users/kavyavempati/Desktop/Kavya/Capstone/cb_2022_36_tract_500k\"   ##Census Tract Shape Files\n",
    "taxi_zone= r\"/Users/kavyavempati/Desktop/Kavya/Capstone/taxi_zones- shape files\" ## Taxi Zone Shape Files\n",
    "excel_output1 =r\"/Users/kavyavempati/Desktop/Kavya/Capstone/census_wZones.xlsx\"  ## Census Vs Zones\n",
    "excel_output2 = r\"/Users/kavyavempati/Desktop/Kavya/Capstone/zones_wCensus.xlsx\"  ## Zones Vs Census"
   ]
  },
  {
   "cell_type": "code",
   "execution_count": 3,
   "id": "772e9437",
   "metadata": {},
   "outputs": [],
   "source": [
    "##Create Dataframe for Census file\n",
    "census_df=gpd.read_file(census) "
   ]
  },
  {
   "cell_type": "code",
   "execution_count": 4,
   "id": "76c66482",
   "metadata": {},
   "outputs": [],
   "source": [
    "##Create Dataframe for Taxi Zones file\n",
    "taxi_zones_df = gpd.read_file(taxi_zone)"
   ]
  },
  {
   "cell_type": "code",
   "execution_count": 5,
   "id": "b732dd67",
   "metadata": {},
   "outputs": [
    {
     "name": "stdout",
     "output_type": "stream",
     "text": [
      "GEOGCS[\"GCS_North_American_1983\",DATUM[\"D_North_American_1983\",SPHEROID[\"GRS_1980\",6378137,298.257222101]],PRIMEM[\"Greenwich\",0],UNIT[\"Degree\",0.0174532925199433],AXIS[\"Longitude\",EAST],AXIS[\"Latitude\",NORTH]] PROJCS[\"NAD_1983_StatePlane_New_York_Long_Island_FIPS_3104_Feet\",GEOGCS[\"GCS_North_American_1983\",DATUM[\"D_North_American_1983\",SPHEROID[\"GRS_1980\",6378137,298.257222101]],PRIMEM[\"Greenwich\",0],UNIT[\"Degree\",0.0174532925199433]],PROJECTION[\"Lambert_Conformal_Conic_2SP\"],PARAMETER[\"latitude_of_origin\",40.1666666666667],PARAMETER[\"central_meridian\",-74],PARAMETER[\"standard_parallel_1\",40.6666666666667],PARAMETER[\"standard_parallel_2\",41.0333333333333],PARAMETER[\"false_easting\",984250],PARAMETER[\"false_northing\",0],UNIT[\"Foot_US\",0.304800609601219],AXIS[\"Easting\",EAST],AXIS[\"Northing\",NORTH]]\n"
     ]
    }
   ],
   "source": [
    "print(census_df.crs, taxi_zones_df.crs)"
   ]
  },
  {
   "cell_type": "code",
   "execution_count": 6,
   "id": "dd448b28",
   "metadata": {},
   "outputs": [],
   "source": [
    "#Converting to same as zone projection to align them\n",
    "census_df = census_df.to_crs(taxi_zones_df.crs)"
   ]
  },
  {
   "cell_type": "code",
   "execution_count": 7,
   "id": "7f4e307d",
   "metadata": {},
   "outputs": [
    {
     "name": "stdout",
     "output_type": "stream",
     "text": [
      "PROJCS[\"NAD_1983_StatePlane_New_York_Long_Island_FIPS_3104_Feet\",GEOGCS[\"GCS_North_American_1983\",DATUM[\"D_North_American_1983\",SPHEROID[\"GRS_1980\",6378137,298.257222101]],PRIMEM[\"Greenwich\",0],UNIT[\"Degree\",0.0174532925199433]],PROJECTION[\"Lambert_Conformal_Conic_2SP\"],PARAMETER[\"latitude_of_origin\",40.1666666666667],PARAMETER[\"central_meridian\",-74],PARAMETER[\"standard_parallel_1\",40.6666666666667],PARAMETER[\"standard_parallel_2\",41.0333333333333],PARAMETER[\"false_easting\",984250],PARAMETER[\"false_northing\",0],UNIT[\"Foot_US\",0.304800609601219],AXIS[\"Easting\",EAST],AXIS[\"Northing\",NORTH]] PROJCS[\"NAD_1983_StatePlane_New_York_Long_Island_FIPS_3104_Feet\",GEOGCS[\"GCS_North_American_1983\",DATUM[\"D_North_American_1983\",SPHEROID[\"GRS_1980\",6378137,298.257222101]],PRIMEM[\"Greenwich\",0],UNIT[\"Degree\",0.0174532925199433]],PROJECTION[\"Lambert_Conformal_Conic_2SP\"],PARAMETER[\"latitude_of_origin\",40.1666666666667],PARAMETER[\"central_meridian\",-74],PARAMETER[\"standard_parallel_1\",40.6666666666667],PARAMETER[\"standard_parallel_2\",41.0333333333333],PARAMETER[\"false_easting\",984250],PARAMETER[\"false_northing\",0],UNIT[\"Foot_US\",0.304800609601219],AXIS[\"Easting\",EAST],AXIS[\"Northing\",NORTH]]\n"
     ]
    }
   ],
   "source": [
    "print(census_df.crs, taxi_zones_df.crs)"
   ]
  },
  {
   "cell_type": "code",
   "execution_count": 8,
   "id": "59c3948b",
   "metadata": {},
   "outputs": [],
   "source": [
    "#Same as taxi zone , making census data as well same as zone\n",
    "clipped_census = gpd.clip(census_df, taxi_zones_df)"
   ]
  },
  {
   "cell_type": "code",
   "execution_count": 9,
   "id": "d4d1fa13",
   "metadata": {},
   "outputs": [],
   "source": [
    "#Converting multi parts to single parts to get seperate centriods\n",
    "clipped_census_MS = clipped_census.explode(ignore_index=True)"
   ]
  },
  {
   "cell_type": "code",
   "execution_count": 10,
   "id": "cb86d4dd",
   "metadata": {},
   "outputs": [],
   "source": [
    "#Creating Centroid for each \n",
    "census_pts = clipped_census_MS.copy()\n",
    "census_pts['geometry']=census_pts['geometry'].centroid"
   ]
  },
  {
   "cell_type": "code",
   "execution_count": 11,
   "id": "d61f5b53",
   "metadata": {},
   "outputs": [],
   "source": [
    "#Zone With CensusTract -One To Many\n",
    "census_pts_sj = gpd.sjoin(census_pts, taxi_zones_df, how='left')\n",
    "census_pts_sj.to_excel(excel_output1, index=False)"
   ]
  },
  {
   "cell_type": "code",
   "execution_count": 44,
   "id": "e4f4e40c",
   "metadata": {},
   "outputs": [
    {
     "data": {
      "text/plain": [
       "<bound method NDFrame.head of      OBJECTID  Shape_Leng  Shape_Area            zone  LocationID    borough  \\\n",
       "0           1    0.116357    0.000782  Newark Airport           1        EWR   \n",
       "1           2    0.433470    0.004866     Jamaica Bay           2     Queens   \n",
       "1           2    0.433470    0.004866     Jamaica Bay           2     Queens   \n",
       "1           2    0.433470    0.004866     Jamaica Bay           2     Queens   \n",
       "1           2    0.433470    0.004866     Jamaica Bay           2     Queens   \n",
       "..        ...         ...         ...             ...         ...        ...   \n",
       "262       263    0.037017    0.000066  Yorkville West         263  Manhattan   \n",
       "262       263    0.037017    0.000066  Yorkville West         263  Manhattan   \n",
       "262       263    0.037017    0.000066  Yorkville West         263  Manhattan   \n",
       "262       263    0.037017    0.000066  Yorkville West         263  Manhattan   \n",
       "262       263    0.037017    0.000066  Yorkville West         263  Manhattan   \n",
       "\n",
       "                                              geometry  old_index_right  \\\n",
       "0    POLYGON ((933100.918 192536.086, 933091.011 19...              NaN   \n",
       "1    MULTIPOLYGON (((1033269.244 172126.008, 103343...           1394.0   \n",
       "1    MULTIPOLYGON (((1033269.244 172126.008, 103343...           1365.0   \n",
       "1    MULTIPOLYGON (((1033269.244 172126.008, 103343...           1395.0   \n",
       "1    MULTIPOLYGON (((1033269.244 172126.008, 103343...           1369.0   \n",
       "..                                                 ...              ...   \n",
       "262  POLYGON ((997493.323 220912.386, 997355.264 22...           2486.0   \n",
       "262  POLYGON ((997493.323 220912.386, 997355.264 22...           2497.0   \n",
       "262  POLYGON ((997493.323 220912.386, 997355.264 22...           2499.0   \n",
       "262  POLYGON ((997493.323 220912.386, 997355.264 22...           2498.0   \n",
       "262  POLYGON ((997493.323 220912.386, 997355.264 22...           2500.0   \n",
       "\n",
       "    STATEFP COUNTYFP  ...              AFFGEOID        GEOID     NAME  \\\n",
       "0       NaN      NaN  ...                   NaN          NaN      NaN   \n",
       "1        36      081  ...  1400000US36081107202  36081107202  1072.02   \n",
       "1        36      081  ...  1400000US36081107202  36081107202  1072.02   \n",
       "1        36      081  ...  1400000US36081107202  36081107202  1072.02   \n",
       "1        36      081  ...  1400000US36081107202  36081107202  1072.02   \n",
       "..      ...      ...  ...                   ...          ...      ...   \n",
       "262      36      061  ...  1400000US36061014602  36061014602   146.02   \n",
       "262      36      061  ...  1400000US36061015401  36061015401   154.01   \n",
       "262      36      061  ...  1400000US36061015403  36061015403   154.03   \n",
       "262      36      061  ...  1400000US36061015402  36061015402   154.02   \n",
       "262      36      061  ...  1400000US36061015601  36061015601   156.01   \n",
       "\n",
       "                 NAMELSAD STUSPS       NAMELSADCO STATE_NAME LSAD      ALAND  \\\n",
       "0                     NaN    NaN              NaN        NaN  NaN        NaN   \n",
       "1    Census Tract 1072.02     NY    Queens County   New York   CT  6705170.0   \n",
       "1    Census Tract 1072.02     NY    Queens County   New York   CT  6705170.0   \n",
       "1    Census Tract 1072.02     NY    Queens County   New York   CT  6705170.0   \n",
       "1    Census Tract 1072.02     NY    Queens County   New York   CT  6705170.0   \n",
       "..                    ...    ...              ...        ...  ...        ...   \n",
       "262   Census Tract 146.02     NY  New York County   New York   CT   109174.0   \n",
       "262   Census Tract 154.01     NY  New York County   New York   CT    70965.0   \n",
       "262   Census Tract 154.03     NY  New York County   New York   CT    51715.0   \n",
       "262   Census Tract 154.02     NY  New York County   New York   CT    54705.0   \n",
       "262   Census Tract 156.01     NY  New York County   New York   CT    73562.0   \n",
       "\n",
       "         AWATER  \n",
       "0           NaN  \n",
       "1    17182460.0  \n",
       "1    17182460.0  \n",
       "1    17182460.0  \n",
       "1    17182460.0  \n",
       "..          ...  \n",
       "262         0.0  \n",
       "262         0.0  \n",
       "262         0.0  \n",
       "262         0.0  \n",
       "262         0.0  \n",
       "\n",
       "[2967 rows x 21 columns]>"
      ]
     },
     "execution_count": 44,
     "metadata": {},
     "output_type": "execute_result"
    }
   ],
   "source": [
    "taxi_zones_df_sj.head"
   ]
  },
  {
   "cell_type": "code",
   "execution_count": 45,
   "id": "0274122c",
   "metadata": {},
   "outputs": [
    {
     "data": {
      "text/plain": [
       "Index(['OBJECTID', 'Shape_Leng', 'Shape_Area', 'zone', 'LocationID', 'borough',\n",
       "       'geometry', 'old_index_right', 'STATEFP', 'COUNTYFP', 'TRACTCE',\n",
       "       'AFFGEOID', 'GEOID', 'NAME', 'NAMELSAD', 'STUSPS', 'NAMELSADCO',\n",
       "       'STATE_NAME', 'LSAD', 'ALAND', 'AWATER'],\n",
       "      dtype='object')"
      ]
     },
     "execution_count": 45,
     "metadata": {},
     "output_type": "execute_result"
    }
   ],
   "source": [
    "taxi_zones_df_sj.columns"
   ]
  },
  {
   "cell_type": "code",
   "execution_count": 12,
   "id": "3e7dad53",
   "metadata": {},
   "outputs": [],
   "source": [
    "#CensusTract with Zone - Many to One\n",
    "taxi_zones_df_sj = gpd.sjoin(taxi_zones_df, census_pts, how='left')\n",
    "taxi_zones_df_sj .to_excel(excel_output2, index=False)"
   ]
  },
  {
   "cell_type": "code",
   "execution_count": null,
   "id": "1fda8166",
   "metadata": {},
   "outputs": [],
   "source": []
  }
 ],
 "metadata": {
  "kernelspec": {
   "display_name": "Python 3 (ipykernel)",
   "language": "python",
   "name": "python3"
  },
  "language_info": {
   "codemirror_mode": {
    "name": "ipython",
    "version": 3
   },
   "file_extension": ".py",
   "mimetype": "text/x-python",
   "name": "python",
   "nbconvert_exporter": "python",
   "pygments_lexer": "ipython3",
   "version": "3.9.12"
  }
 },
 "nbformat": 4,
 "nbformat_minor": 5
}
