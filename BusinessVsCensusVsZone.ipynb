{
 "cells": [
  {
   "cell_type": "code",
   "execution_count": 14,
   "id": "56986835",
   "metadata": {},
   "outputs": [],
   "source": [
    "## Fetching the CensusTract Details in the Business Data using GEO PANDAS"
   ]
  },
  {
   "cell_type": "code",
   "execution_count": 1,
   "id": "19e9f733",
   "metadata": {},
   "outputs": [],
   "source": [
    "##Install GEO-PANADS\n",
    "import geopandas as gpd\n",
    "import pandas as pd\n",
    "from shapely.geometry import Point"
   ]
  },
  {
   "cell_type": "code",
   "execution_count": 15,
   "id": "f4037416",
   "metadata": {},
   "outputs": [],
   "source": [
    "business = r\"/Users/kavyavempati/Desktop/Kavya/Capstone/Legally_Operating_Businesses_20231020.csv\"##Business Files \n",
    "census = r\"/Users/kavyavempati/Desktop/Kavya/Capstone/cb_2022_36_tract_500k\"   ##Census Tract Shape Files\n",
    "taxi_zone= r\"/Users/kavyavempati/Desktop/Kavya/Capstone/taxi_zones- shape files\" ## Taxi Zone Shape Files\n",
    "\n",
    "excel_output1 =r\"/Users/kavyavempati/Desktop/Kavya/Capstone/census_wZones.xlsx\"  ## Census Vs Zones\n",
    "excel_output2 = r\"/Users/kavyavempati/Desktop/Kavya/Capstone/zones_wCensus.xlsx\"  ## Zones Vs Census\n",
    "excel_output3  = r\"/Users/kavyavempati/Desktop/Kavya/business_zones_wCensus.xlsx\"  #Businesss Data"
   ]
  },
  {
   "cell_type": "code",
   "execution_count": 16,
   "id": "f9a207ed",
   "metadata": {},
   "outputs": [
    {
     "name": "stderr",
     "output_type": "stream",
     "text": [
      "/var/folders/31/5ccmk1h91x1fbrmmcd39jt5m0000gp/T/ipykernel_34787/3855573947.py:2: DtypeWarning: Columns (19,20) have mixed types. Specify dtype option on import or set low_memory=False.\n",
      "  busines_df = pd.read_csv(business)\n"
     ]
    }
   ],
   "source": [
    "###READING BUSINESS DATA\n",
    "busines_df = pd.read_csv(business) \n",
    "pts= busines_df.apply (lambda row: Point (row. Longitude, row. Latitude), axis=1) \n",
    "gdf = gpd. GeoDataFrame (busines_df, geometry=pts,crs=\"EPSG:4326\") \n",
    "##gdf.crs = \"EPSG: 4326\""
   ]
  },
  {
   "cell_type": "code",
   "execution_count": 17,
   "id": "772e9437",
   "metadata": {},
   "outputs": [],
   "source": [
    "##Create Dataframe for Census file\n",
    "census_df=gpd.read_file(census) "
   ]
  },
  {
   "cell_type": "code",
   "execution_count": 18,
   "id": "76c66482",
   "metadata": {},
   "outputs": [],
   "source": [
    "##Create Dataframe for Taxi Zones file\n",
    "taxi_zones_df = gpd.read_file(taxi_zone)"
   ]
  },
  {
   "cell_type": "code",
   "execution_count": 19,
   "id": "b732dd67",
   "metadata": {},
   "outputs": [
    {
     "name": "stdout",
     "output_type": "stream",
     "text": [
      "GEOGCS[\"GCS_North_American_1983\",DATUM[\"D_North_American_1983\",SPHEROID[\"GRS_1980\",6378137,298.257222101]],PRIMEM[\"Greenwich\",0],UNIT[\"Degree\",0.0174532925199433],AXIS[\"Longitude\",EAST],AXIS[\"Latitude\",NORTH]] PROJCS[\"NAD_1983_StatePlane_New_York_Long_Island_FIPS_3104_Feet\",GEOGCS[\"GCS_North_American_1983\",DATUM[\"D_North_American_1983\",SPHEROID[\"GRS_1980\",6378137,298.257222101]],PRIMEM[\"Greenwich\",0],UNIT[\"Degree\",0.0174532925199433]],PROJECTION[\"Lambert_Conformal_Conic_2SP\"],PARAMETER[\"latitude_of_origin\",40.1666666666667],PARAMETER[\"central_meridian\",-74],PARAMETER[\"standard_parallel_1\",40.6666666666667],PARAMETER[\"standard_parallel_2\",41.0333333333333],PARAMETER[\"false_easting\",984250],PARAMETER[\"false_northing\",0],UNIT[\"Foot_US\",0.304800609601219],AXIS[\"Easting\",EAST],AXIS[\"Northing\",NORTH]]\n"
     ]
    }
   ],
   "source": [
    "print(census_df.crs, taxi_zones_df.crs)"
   ]
  },
  {
   "cell_type": "code",
   "execution_count": 20,
   "id": "dd448b28",
   "metadata": {},
   "outputs": [],
   "source": [
    "#Converting to same as zone projection to align them\n",
    "census_df = census_df.to_crs(taxi_zones_df.crs)\n",
    "business_gdf = gdf.to_crs(taxi_zones_df.crs)"
   ]
  },
  {
   "cell_type": "code",
   "execution_count": 21,
   "id": "7f4e307d",
   "metadata": {},
   "outputs": [
    {
     "name": "stdout",
     "output_type": "stream",
     "text": [
      "PROJCS[\"NAD_1983_StatePlane_New_York_Long_Island_FIPS_3104_Feet\",GEOGCS[\"GCS_North_American_1983\",DATUM[\"D_North_American_1983\",SPHEROID[\"GRS_1980\",6378137,298.257222101]],PRIMEM[\"Greenwich\",0],UNIT[\"Degree\",0.0174532925199433]],PROJECTION[\"Lambert_Conformal_Conic_2SP\"],PARAMETER[\"latitude_of_origin\",40.1666666666667],PARAMETER[\"central_meridian\",-74],PARAMETER[\"standard_parallel_1\",40.6666666666667],PARAMETER[\"standard_parallel_2\",41.0333333333333],PARAMETER[\"false_easting\",984250],PARAMETER[\"false_northing\",0],UNIT[\"Foot_US\",0.304800609601219],AXIS[\"Easting\",EAST],AXIS[\"Northing\",NORTH]] PROJCS[\"NAD_1983_StatePlane_New_York_Long_Island_FIPS_3104_Feet\",GEOGCS[\"GCS_North_American_1983\",DATUM[\"D_North_American_1983\",SPHEROID[\"GRS_1980\",6378137,298.257222101]],PRIMEM[\"Greenwich\",0],UNIT[\"Degree\",0.0174532925199433]],PROJECTION[\"Lambert_Conformal_Conic_2SP\"],PARAMETER[\"latitude_of_origin\",40.1666666666667],PARAMETER[\"central_meridian\",-74],PARAMETER[\"standard_parallel_1\",40.6666666666667],PARAMETER[\"standard_parallel_2\",41.0333333333333],PARAMETER[\"false_easting\",984250],PARAMETER[\"false_northing\",0],UNIT[\"Foot_US\",0.304800609601219],AXIS[\"Easting\",EAST],AXIS[\"Northing\",NORTH]]\n"
     ]
    }
   ],
   "source": [
    "print(census_df.crs, taxi_zones_df.crs)"
   ]
  },
  {
   "cell_type": "code",
   "execution_count": 22,
   "id": "59c3948b",
   "metadata": {},
   "outputs": [],
   "source": [
    "#Same as taxi zone , making census data as well same as zone\n",
    "clipped_census = gpd.clip(census_df, taxi_zones_df)"
   ]
  },
  {
   "cell_type": "code",
   "execution_count": 23,
   "id": "d4d1fa13",
   "metadata": {},
   "outputs": [],
   "source": [
    "#Converting multi parts to single parts to get seperate centriods\n",
    "clipped_census_MS = clipped_census.explode(ignore_index=True)"
   ]
  },
  {
   "cell_type": "code",
   "execution_count": 24,
   "id": "2c2d533a",
   "metadata": {},
   "outputs": [],
   "source": [
    "#Business Pts with Census - Many to One\n",
    "business_gdf_sj = gpd.sjoin(business_gdf,clipped_census_MS,how='left')"
   ]
  },
  {
   "cell_type": "code",
   "execution_count": 25,
   "id": "cb86d4dd",
   "metadata": {},
   "outputs": [],
   "source": [
    "#Business Pts with Census with Zones - Many to One\n",
    "business_gdf_sj = business_gdf_sj.rename(columns={'index_right':'old_index_right'})\n",
    "business_gdf_sj_2 = gpd.sjoin(business_gdf_sj,taxi_zones_df,how='left')"
   ]
  },
  {
   "cell_type": "code",
   "execution_count": 26,
   "id": "d61f5b53",
   "metadata": {},
   "outputs": [],
   "source": [
    "business_gdf_sj_2 .to_excel(excel_output3, index=False)"
   ]
  },
  {
   "cell_type": "code",
   "execution_count": 13,
   "id": "cc7e0499",
   "metadata": {},
   "outputs": [
    {
     "name": "stderr",
     "output_type": "stream",
     "text": [
      "/var/folders/31/5ccmk1h91x1fbrmmcd39jt5m0000gp/T/ipykernel_34787/2033273497.py:1: UserWarning: Column names longer than 10 characters will be truncated when saved to ESRI Shapefile.\n",
      "  business_gdf_sj_2.to_file(r\"/Users/kavyavempati/Desktop/Kavya/Capstone/BU_SP.shp\")\n"
     ]
    }
   ],
   "source": [
    "business_gdf_sj_2.to_file(r\"/Users/kavyavempati/Desktop/Kavya/Capstone/BU_SP.shp\")"
   ]
  },
  {
   "cell_type": "code",
   "execution_count": null,
   "id": "82f73e52",
   "metadata": {},
   "outputs": [],
   "source": []
  }
 ],
 "metadata": {
  "kernelspec": {
   "display_name": "Python 3 (ipykernel)",
   "language": "python",
   "name": "python3"
  },
  "language_info": {
   "codemirror_mode": {
    "name": "ipython",
    "version": 3
   },
   "file_extension": ".py",
   "mimetype": "text/x-python",
   "name": "python",
   "nbconvert_exporter": "python",
   "pygments_lexer": "ipython3",
   "version": "3.9.12"
  }
 },
 "nbformat": 4,
 "nbformat_minor": 5
}
