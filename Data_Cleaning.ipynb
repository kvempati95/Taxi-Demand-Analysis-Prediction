{
 "cells": [
  {
   "cell_type": "code",
   "execution_count": 1,
   "id": "eabd6b81",
   "metadata": {},
   "outputs": [],
   "source": [
    "from pathlib import Path # to interact with file system.\n",
    "\n",
    "import numpy as np # for working with arrays.\n",
    "import pandas as pd # for working with data frames (tables).\n",
    "\n",
    "from sklearn.model_selection import train_test_split # for data partition.\n",
    "from sklearn.metrics import r2_score # to identify r_squared for regression model.\n",
    "from sklearn.linear_model import LinearRegression # for linear regression model.\n",
    "from sklearn.metrics import mean_squared_error\n",
    "\n",
    "%matplotlib inline \n",
    "import matplotlib.pylab as plt\n",
    "\n",
    "from dmba import regressionSummary, exhaustive_search\n",
    "from dmba import backward_elimination, forward_selection, stepwise_selection\n",
    "from dmba import adjusted_r2_score, AIC_score, BIC_score\n",
    "\n",
    "\n",
    "import os\n",
    "import calendar\n",
    "#import scatter_matrix, parallel_coordinates\n",
    "import seaborn as sns\n",
    "from sklearn import preprocessing\n",
    "\n"
   ]
  },
  {
   "cell_type": "code",
   "execution_count": 2,
   "id": "8b86bd4f",
   "metadata": {},
   "outputs": [
    {
     "name": "stdout",
     "output_type": "stream",
     "text": [
      "Requirement already satisfied: dmba in c:\\users\\stsc\\anaconda3\\lib\\site-packages (0.2.4)\n",
      "Requirement already satisfied: graphviz in c:\\users\\stsc\\anaconda3\\lib\\site-packages (from dmba) (0.20.1)\n",
      "Requirement already satisfied: matplotlib in c:\\users\\stsc\\anaconda3\\lib\\site-packages (from dmba) (3.7.2)\n",
      "Requirement already satisfied: numpy in c:\\users\\stsc\\anaconda3\\lib\\site-packages (from dmba) (1.24.3)\n",
      "Requirement already satisfied: pandas in c:\\users\\stsc\\anaconda3\\lib\\site-packages (from dmba) (2.0.3)\n",
      "Requirement already satisfied: scikit-learn in c:\\users\\stsc\\appdata\\roaming\\python\\python311\\site-packages (from dmba) (1.3.2)\n",
      "Requirement already satisfied: scipy in c:\\users\\stsc\\anaconda3\\lib\\site-packages (from dmba) (1.11.1)\n",
      "Requirement already satisfied: contourpy>=1.0.1 in c:\\users\\stsc\\anaconda3\\lib\\site-packages (from matplotlib->dmba) (1.0.5)\n",
      "Requirement already satisfied: cycler>=0.10 in c:\\users\\stsc\\anaconda3\\lib\\site-packages (from matplotlib->dmba) (0.11.0)\n",
      "Requirement already satisfied: fonttools>=4.22.0 in c:\\users\\stsc\\anaconda3\\lib\\site-packages (from matplotlib->dmba) (4.25.0)\n",
      "Requirement already satisfied: kiwisolver>=1.0.1 in c:\\users\\stsc\\anaconda3\\lib\\site-packages (from matplotlib->dmba) (1.4.4)\n",
      "Requirement already satisfied: packaging>=20.0 in c:\\users\\stsc\\anaconda3\\lib\\site-packages (from matplotlib->dmba) (23.1)\n",
      "Requirement already satisfied: pillow>=6.2.0 in c:\\users\\stsc\\anaconda3\\lib\\site-packages (from matplotlib->dmba) (9.4.0)\n",
      "Requirement already satisfied: pyparsing<3.1,>=2.3.1 in c:\\users\\stsc\\anaconda3\\lib\\site-packages (from matplotlib->dmba) (3.0.9)\n",
      "Requirement already satisfied: python-dateutil>=2.7 in c:\\users\\stsc\\anaconda3\\lib\\site-packages (from matplotlib->dmba) (2.8.2)\n",
      "Requirement already satisfied: pytz>=2020.1 in c:\\users\\stsc\\anaconda3\\lib\\site-packages (from pandas->dmba) (2023.3.post1)\n",
      "Requirement already satisfied: tzdata>=2022.1 in c:\\users\\stsc\\anaconda3\\lib\\site-packages (from pandas->dmba) (2023.3)\n",
      "Requirement already satisfied: joblib>=1.1.1 in c:\\users\\stsc\\anaconda3\\lib\\site-packages (from scikit-learn->dmba) (1.2.0)\n",
      "Requirement already satisfied: threadpoolctl>=2.0.0 in c:\\users\\stsc\\anaconda3\\lib\\site-packages (from scikit-learn->dmba) (2.2.0)\n",
      "Requirement already satisfied: six>=1.5 in c:\\users\\stsc\\anaconda3\\lib\\site-packages (from python-dateutil>=2.7->matplotlib->dmba) (1.16.0)\n",
      "Note: you may need to restart the kernel to use updated packages.\n"
     ]
    }
   ],
   "source": [
    "pip install dmba"
   ]
  },
  {
   "cell_type": "code",
   "execution_count": 3,
   "id": "6ecfcb11",
   "metadata": {},
   "outputs": [
    {
     "name": "stdout",
     "output_type": "stream",
     "text": [
      "Requirement already satisfied: seaborn in c:\\users\\stsc\\anaconda3\\lib\\site-packages (0.12.2)\n",
      "Requirement already satisfied: numpy!=1.24.0,>=1.17 in c:\\users\\stsc\\anaconda3\\lib\\site-packages (from seaborn) (1.24.3)\n",
      "Requirement already satisfied: pandas>=0.25 in c:\\users\\stsc\\anaconda3\\lib\\site-packages (from seaborn) (2.0.3)\n",
      "Requirement already satisfied: matplotlib!=3.6.1,>=3.1 in c:\\users\\stsc\\anaconda3\\lib\\site-packages (from seaborn) (3.7.2)\n",
      "Requirement already satisfied: contourpy>=1.0.1 in c:\\users\\stsc\\anaconda3\\lib\\site-packages (from matplotlib!=3.6.1,>=3.1->seaborn) (1.0.5)\n",
      "Requirement already satisfied: cycler>=0.10 in c:\\users\\stsc\\anaconda3\\lib\\site-packages (from matplotlib!=3.6.1,>=3.1->seaborn) (0.11.0)\n",
      "Requirement already satisfied: fonttools>=4.22.0 in c:\\users\\stsc\\anaconda3\\lib\\site-packages (from matplotlib!=3.6.1,>=3.1->seaborn) (4.25.0)\n",
      "Requirement already satisfied: kiwisolver>=1.0.1 in c:\\users\\stsc\\anaconda3\\lib\\site-packages (from matplotlib!=3.6.1,>=3.1->seaborn) (1.4.4)\n",
      "Requirement already satisfied: packaging>=20.0 in c:\\users\\stsc\\anaconda3\\lib\\site-packages (from matplotlib!=3.6.1,>=3.1->seaborn) (23.1)\n",
      "Requirement already satisfied: pillow>=6.2.0 in c:\\users\\stsc\\anaconda3\\lib\\site-packages (from matplotlib!=3.6.1,>=3.1->seaborn) (9.4.0)\n",
      "Requirement already satisfied: pyparsing<3.1,>=2.3.1 in c:\\users\\stsc\\anaconda3\\lib\\site-packages (from matplotlib!=3.6.1,>=3.1->seaborn) (3.0.9)\n",
      "Requirement already satisfied: python-dateutil>=2.7 in c:\\users\\stsc\\anaconda3\\lib\\site-packages (from matplotlib!=3.6.1,>=3.1->seaborn) (2.8.2)\n",
      "Requirement already satisfied: pytz>=2020.1 in c:\\users\\stsc\\anaconda3\\lib\\site-packages (from pandas>=0.25->seaborn) (2023.3.post1)\n",
      "Requirement already satisfied: tzdata>=2022.1 in c:\\users\\stsc\\anaconda3\\lib\\site-packages (from pandas>=0.25->seaborn) (2023.3)\n",
      "Requirement already satisfied: six>=1.5 in c:\\users\\stsc\\anaconda3\\lib\\site-packages (from python-dateutil>=2.7->matplotlib!=3.6.1,>=3.1->seaborn) (1.16.0)\n",
      "Note: you may need to restart the kernel to use updated packages.\n"
     ]
    }
   ],
   "source": [
    "pip install seaborn"
   ]
  },
  {
   "cell_type": "code",
   "execution_count": 4,
   "id": "ebae9aa6",
   "metadata": {},
   "outputs": [],
   "source": [
    "import seaborn as sns\n",
    "import matplotlib.pylab as plt"
   ]
  },
  {
   "cell_type": "code",
   "execution_count": 5,
   "id": "c119dee4",
   "metadata": {},
   "outputs": [],
   "source": [
    "fact_taxi_df = pd.read_csv(\"fact_taxi_transport.csv\", low_memory=False)\n",
    "dim_Agr_df = pd.read_csv(\"Dim_AGR.csv\")\n",
    "dim_income_df = pd.read_csv(\"Dim_Income.csv\")\n",
    "dim_vehicles_df = pd.read_csv(\"Dim_Vehicles.csv\")\n",
    "dim_weather_df = pd.read_csv(\"New_Weather_Data.csv\")\n",
    "agg_dim_carpooled_df = pd.read_csv(\"AGG_Dim_carpooled.csv\")\n",
    "agg_dim_publictransport_df = pd.read_csv(\"AGG_Dim_PublicTransport.csv\")\n",
    "agg_dim_drovealone_df = pd.read_csv(\"AGG_Dim_DriveAlone.csv\")\n",
    "time_data_PU_df = pd.read_csv(\"time_data.csv\")\n",
    "time_data_DO_df = pd.read_csv(\"time_data.csv\")\n",
    "dim_location_PU_df = pd.read_csv(\"Dim_location.csv\")\n",
    "dim_location_DO_df = pd.read_csv(\"Dim_location.csv\")\n",
    "business_data_df = pd.read_csv(\"business_data.csv\")"
   ]
  },
  {
   "cell_type": "code",
   "execution_count": 6,
   "id": "bbeb2a6f",
   "metadata": {},
   "outputs": [
    {
     "data": {
      "text/plain": [
       "Index(['Dim_pickup_time_id', 'Dim_Dropoff_time_id', 'Dim_Pickup_Location_id',\n",
       "       'Dim_Dropoff_Location_id', 'Dim_Business_id', 'Dim_Weather_id',\n",
       "       'Dim_carpooled_id', 'Dim_DriveAlone_id', 'Dim_PublicTransport',\n",
       "       'Trip_Distance', 'Tip_amount', 'Total_amount'],\n",
       "      dtype='object')"
      ]
     },
     "execution_count": 6,
     "metadata": {},
     "output_type": "execute_result"
    }
   ],
   "source": [
    "fact_taxi_df.columns"
   ]
  },
  {
   "cell_type": "code",
   "execution_count": 7,
   "id": "96f13577",
   "metadata": {},
   "outputs": [],
   "source": [
    "business_data_df = business_data_df.rename(columns= {'Business_id': 'Dim_Business_id'})\n",
    "dim_location_PU_df = dim_location_PU_df.rename(columns= {'LocationID' : 'Dim_Pickup_Location_id', 'Borough' : 'PUBorough', 'Zone' : 'PUZone'})\n",
    "dim_location_DO_df = dim_location_DO_df.rename(columns= {'LocationID' : 'Dim_Dropoff_Location_id', 'Borough' : 'DOBorough', 'Zone' : 'DOZone'})\n",
    "time_data_PU_df = time_data_PU_df.rename(columns= {'Timestamp' : 'PUTimestamp', 'Time_id' : 'Dim_pickup_time_id'})\n",
    "time_data_DO_df = time_data_DO_df.rename(columns= {'Timestamp' : 'DOTimestamp', 'Time_id' : 'Dim_Dropoff_time_id'})\n",
    "dim_weather_df = dim_weather_df.rename(columns= {'Weather_id' : 'Dim_Weather_id' })\n",
    "dim_income_df = dim_income_df.rename(columns= {'LocationID' : 'Dim_Pickup_Location_id'})\n",
    "dim_income_df = dim_income_df.rename(columns= {'LocationID' : 'Dim_Pickup_Location_id'})"
   ]
  },
  {
   "cell_type": "code",
   "execution_count": 8,
   "id": "d3b0b77e",
   "metadata": {},
   "outputs": [],
   "source": [
    "taxi_df = business_data_df[['Industry', 'Dim_Business_id']].merge(fact_taxi_df[['Dim_pickup_time_id', 'Dim_Dropoff_time_id', 'Dim_Pickup_Location_id','Dim_Dropoff_Location_id', 'Dim_Business_id', 'Dim_Weather_id','Dim_carpooled_id', 'Dim_DriveAlone_id', 'Dim_PublicTransport','Trip_Distance', 'Tip_amount', 'Total_amount']], on = 'Dim_Business_id', how = 'right')\n",
    "taxi_df = dim_location_PU_df[['Dim_Pickup_Location_id', 'PUBorough', 'PUZone']].merge(taxi_df[['Industry', 'Dim_Business_id', 'Dim_pickup_time_id','Dim_Dropoff_time_id', 'Dim_Pickup_Location_id','Dim_Dropoff_Location_id', 'Dim_Weather_id', 'Dim_carpooled_id','Dim_DriveAlone_id', 'Dim_PublicTransport', 'Trip_Distance','Tip_amount', 'Total_amount']], on = 'Dim_Pickup_Location_id', how = 'right')\n",
    "taxi_df = dim_location_DO_df[['Dim_Dropoff_Location_id', 'DOBorough', 'DOZone']].merge(taxi_df[['Industry', 'Dim_Business_id', 'Dim_pickup_time_id', 'PUBorough', 'PUZone','Dim_Dropoff_time_id', 'Dim_Pickup_Location_id','Dim_Dropoff_Location_id', 'Dim_Weather_id', 'Dim_carpooled_id','Dim_DriveAlone_id', 'Dim_PublicTransport', 'Trip_Distance','Tip_amount', 'Total_amount']], on = 'Dim_Dropoff_Location_id', how = 'right')\n",
    "taxi_df = time_data_PU_df[['PUTimestamp', 'Dim_pickup_time_id']].merge(taxi_df[['Dim_Dropoff_Location_id', 'DOBorough', 'DOZone', 'Industry','Dim_Business_id', 'Dim_pickup_time_id', 'PUBorough', 'PUZone','Dim_Dropoff_time_id', 'Dim_Pickup_Location_id', 'Dim_Weather_id','Dim_carpooled_id', 'Dim_DriveAlone_id', 'Dim_PublicTransport','Trip_Distance', 'Tip_amount', 'Total_amount']], on = 'Dim_pickup_time_id', how = 'right')\n",
    "taxi_df = time_data_DO_df[['DOTimestamp', 'Dim_Dropoff_time_id']].merge(taxi_df[['Dim_Dropoff_Location_id', 'DOBorough', 'DOZone', 'Industry','Dim_Business_id', 'Dim_pickup_time_id','PUTimestamp', 'PUBorough', 'PUZone','Dim_Dropoff_time_id', 'Dim_Pickup_Location_id', 'Dim_Weather_id','Dim_carpooled_id', 'Dim_DriveAlone_id', 'Dim_PublicTransport','Trip_Distance', 'Tip_amount', 'Total_amount']], on = 'Dim_Dropoff_time_id', how = 'right')\n",
    "taxi_df = dim_weather_df[['Dim_Weather_id', 'city_name', 'weather_type', 'Temperature', 'Date_Time']].merge(taxi_df[['Dim_Dropoff_Location_id', 'DOBorough', 'DOZone', 'Industry','Dim_Business_id', 'Dim_pickup_time_id','PUTimestamp', 'PUBorough', 'PUZone','Dim_Dropoff_time_id','DOTimestamp', 'Dim_Pickup_Location_id', 'Dim_Weather_id','Dim_carpooled_id', 'Dim_DriveAlone_id', 'Dim_PublicTransport','Trip_Distance', 'Tip_amount', 'Total_amount']], on = 'Dim_Weather_id', how = 'right')\n"
   ]
  },
  {
   "cell_type": "code",
   "execution_count": 14,
   "id": "c8b3b882",
   "metadata": {},
   "outputs": [
    {
     "data": {
      "text/html": [
       "<div>\n",
       "<style scoped>\n",
       "    .dataframe tbody tr th:only-of-type {\n",
       "        vertical-align: middle;\n",
       "    }\n",
       "\n",
       "    .dataframe tbody tr th {\n",
       "        vertical-align: top;\n",
       "    }\n",
       "\n",
       "    .dataframe thead th {\n",
       "        text-align: right;\n",
       "    }\n",
       "</style>\n",
       "<table border=\"1\" class=\"dataframe\">\n",
       "  <thead>\n",
       "    <tr style=\"text-align: right;\">\n",
       "      <th></th>\n",
       "      <th>Dim_Weather_id</th>\n",
       "      <th>city_name</th>\n",
       "      <th>weather_type</th>\n",
       "      <th>Temperature</th>\n",
       "      <th>Date_Time</th>\n",
       "      <th>Dim_Dropoff_Location_id</th>\n",
       "      <th>DOBorough</th>\n",
       "      <th>DOZone</th>\n",
       "      <th>Industry</th>\n",
       "      <th>Dim_Business_id</th>\n",
       "      <th>...</th>\n",
       "      <th>PUZone</th>\n",
       "      <th>Dim_Dropoff_time_id</th>\n",
       "      <th>DOTimestamp</th>\n",
       "      <th>Dim_Pickup_Location_id</th>\n",
       "      <th>Dim_carpooled_id</th>\n",
       "      <th>Dim_DriveAlone_id</th>\n",
       "      <th>Dim_PublicTransport</th>\n",
       "      <th>Trip_Distance</th>\n",
       "      <th>Tip_amount</th>\n",
       "      <th>Total_amount</th>\n",
       "    </tr>\n",
       "  </thead>\n",
       "  <tbody>\n",
       "    <tr>\n",
       "      <th>0</th>\n",
       "      <td>W5</td>\n",
       "      <td>Bronx</td>\n",
       "      <td>sky is clear</td>\n",
       "      <td>257-290</td>\n",
       "      <td>4/3/2023 11:00</td>\n",
       "      <td>119</td>\n",
       "      <td>Bronx</td>\n",
       "      <td>Highbridge</td>\n",
       "      <td>Electronic &amp; Appliance Service</td>\n",
       "      <td>B1</td>\n",
       "      <td>...</td>\n",
       "      <td>Inwood</td>\n",
       "      <td>T30</td>\n",
       "      <td>01-03-2023 00:29</td>\n",
       "      <td>127</td>\n",
       "      <td>C108</td>\n",
       "      <td>P109</td>\n",
       "      <td>D110</td>\n",
       "      <td>7.4</td>\n",
       "      <td>0.0</td>\n",
       "      <td>27.8</td>\n",
       "    </tr>\n",
       "    <tr>\n",
       "      <th>1</th>\n",
       "      <td>W5</td>\n",
       "      <td>Bronx</td>\n",
       "      <td>sky is clear</td>\n",
       "      <td>257-290</td>\n",
       "      <td>4/3/2023 12:00</td>\n",
       "      <td>119</td>\n",
       "      <td>Bronx</td>\n",
       "      <td>Highbridge</td>\n",
       "      <td>Electronic &amp; Appliance Service</td>\n",
       "      <td>B1</td>\n",
       "      <td>...</td>\n",
       "      <td>Inwood</td>\n",
       "      <td>T30</td>\n",
       "      <td>01-03-2023 00:29</td>\n",
       "      <td>127</td>\n",
       "      <td>C108</td>\n",
       "      <td>P109</td>\n",
       "      <td>D110</td>\n",
       "      <td>7.4</td>\n",
       "      <td>0.0</td>\n",
       "      <td>27.8</td>\n",
       "    </tr>\n",
       "    <tr>\n",
       "      <th>2</th>\n",
       "      <td>W5</td>\n",
       "      <td>Bronx</td>\n",
       "      <td>sky is clear</td>\n",
       "      <td>257-290</td>\n",
       "      <td>4/3/2023 13:00</td>\n",
       "      <td>119</td>\n",
       "      <td>Bronx</td>\n",
       "      <td>Highbridge</td>\n",
       "      <td>Electronic &amp; Appliance Service</td>\n",
       "      <td>B1</td>\n",
       "      <td>...</td>\n",
       "      <td>Inwood</td>\n",
       "      <td>T30</td>\n",
       "      <td>01-03-2023 00:29</td>\n",
       "      <td>127</td>\n",
       "      <td>C108</td>\n",
       "      <td>P109</td>\n",
       "      <td>D110</td>\n",
       "      <td>7.4</td>\n",
       "      <td>0.0</td>\n",
       "      <td>27.8</td>\n",
       "    </tr>\n",
       "    <tr>\n",
       "      <th>3</th>\n",
       "      <td>W5</td>\n",
       "      <td>Bronx</td>\n",
       "      <td>sky is clear</td>\n",
       "      <td>257-290</td>\n",
       "      <td>4/3/2023 14:00</td>\n",
       "      <td>119</td>\n",
       "      <td>Bronx</td>\n",
       "      <td>Highbridge</td>\n",
       "      <td>Electronic &amp; Appliance Service</td>\n",
       "      <td>B1</td>\n",
       "      <td>...</td>\n",
       "      <td>Inwood</td>\n",
       "      <td>T30</td>\n",
       "      <td>01-03-2023 00:29</td>\n",
       "      <td>127</td>\n",
       "      <td>C108</td>\n",
       "      <td>P109</td>\n",
       "      <td>D110</td>\n",
       "      <td>7.4</td>\n",
       "      <td>0.0</td>\n",
       "      <td>27.8</td>\n",
       "    </tr>\n",
       "    <tr>\n",
       "      <th>4</th>\n",
       "      <td>W5</td>\n",
       "      <td>Bronx</td>\n",
       "      <td>sky is clear</td>\n",
       "      <td>257-290</td>\n",
       "      <td>9/3/2023 5:00</td>\n",
       "      <td>119</td>\n",
       "      <td>Bronx</td>\n",
       "      <td>Highbridge</td>\n",
       "      <td>Electronic &amp; Appliance Service</td>\n",
       "      <td>B1</td>\n",
       "      <td>...</td>\n",
       "      <td>Inwood</td>\n",
       "      <td>T30</td>\n",
       "      <td>01-03-2023 00:29</td>\n",
       "      <td>127</td>\n",
       "      <td>C108</td>\n",
       "      <td>P109</td>\n",
       "      <td>D110</td>\n",
       "      <td>7.4</td>\n",
       "      <td>0.0</td>\n",
       "      <td>27.8</td>\n",
       "    </tr>\n",
       "  </tbody>\n",
       "</table>\n",
       "<p>5 rows × 23 columns</p>\n",
       "</div>"
      ],
      "text/plain": [
       "  Dim_Weather_id city_name  weather_type Temperature       Date_Time  \\\n",
       "0             W5     Bronx  sky is clear     257-290  4/3/2023 11:00   \n",
       "1             W5     Bronx  sky is clear     257-290  4/3/2023 12:00   \n",
       "2             W5     Bronx  sky is clear     257-290  4/3/2023 13:00   \n",
       "3             W5     Bronx  sky is clear     257-290  4/3/2023 14:00   \n",
       "4             W5     Bronx  sky is clear     257-290   9/3/2023 5:00   \n",
       "\n",
       "   Dim_Dropoff_Location_id DOBorough      DOZone  \\\n",
       "0                      119     Bronx  Highbridge   \n",
       "1                      119     Bronx  Highbridge   \n",
       "2                      119     Bronx  Highbridge   \n",
       "3                      119     Bronx  Highbridge   \n",
       "4                      119     Bronx  Highbridge   \n",
       "\n",
       "                         Industry Dim_Business_id  ...  PUZone  \\\n",
       "0  Electronic & Appliance Service              B1  ...  Inwood   \n",
       "1  Electronic & Appliance Service              B1  ...  Inwood   \n",
       "2  Electronic & Appliance Service              B1  ...  Inwood   \n",
       "3  Electronic & Appliance Service              B1  ...  Inwood   \n",
       "4  Electronic & Appliance Service              B1  ...  Inwood   \n",
       "\n",
       "  Dim_Dropoff_time_id       DOTimestamp Dim_Pickup_Location_id  \\\n",
       "0                 T30  01-03-2023 00:29                    127   \n",
       "1                 T30  01-03-2023 00:29                    127   \n",
       "2                 T30  01-03-2023 00:29                    127   \n",
       "3                 T30  01-03-2023 00:29                    127   \n",
       "4                 T30  01-03-2023 00:29                    127   \n",
       "\n",
       "  Dim_carpooled_id Dim_DriveAlone_id  Dim_PublicTransport Trip_Distance  \\\n",
       "0             C108              P109                 D110           7.4   \n",
       "1             C108              P109                 D110           7.4   \n",
       "2             C108              P109                 D110           7.4   \n",
       "3             C108              P109                 D110           7.4   \n",
       "4             C108              P109                 D110           7.4   \n",
       "\n",
       "  Tip_amount Total_amount  \n",
       "0        0.0         27.8  \n",
       "1        0.0         27.8  \n",
       "2        0.0         27.8  \n",
       "3        0.0         27.8  \n",
       "4        0.0         27.8  \n",
       "\n",
       "[5 rows x 23 columns]"
      ]
     },
     "execution_count": 14,
     "metadata": {},
     "output_type": "execute_result"
    }
   ],
   "source": [
    "taxi_df.head(5)"
   ]
  },
  {
   "cell_type": "code",
   "execution_count": 11,
   "id": "b63d8a4a",
   "metadata": {},
   "outputs": [
    {
     "data": {
      "text/plain": [
       "Index(['LocationID', 'Geographic Area Name', 'Geographic Area Name - County',\n",
       "       'Zone', 'No vehicle available', '1 vehicle available',\n",
       "       '2 vehicles available', '3 or more vehicles available',\n",
       "       'Transportation_type', 'Unnamed: 9', 'Unnamed: 10', 'Unnamed: 11',\n",
       "       'Unnamed: 12'],\n",
       "      dtype='object')"
      ]
     },
     "execution_count": 11,
     "metadata": {},
     "output_type": "execute_result"
    }
   ],
   "source": [
    "dim_vehicles_df.columns"
   ]
  },
  {
   "cell_type": "code",
   "execution_count": 12,
   "id": "a104f170",
   "metadata": {},
   "outputs": [
    {
     "data": {
      "text/plain": [
       "Index(['Geographic Area Name', 'Geographic Area Name - County', 'Zone',\n",
       "       'LocationID', 'Earnings $1 to $9,999 or loss',\n",
       "       'Earnings $10,000 to $14,999', 'Earnings $15,000 to $24,999',\n",
       "       'Earnings $25,000 to $34,999', 'Earnings!!$35,000 to $49,999',\n",
       "       'Earnings $50,000 to $64,999', 'earnings $65,000 to $74,999',\n",
       "       'earnings $75,000 or more', 'Transportation_type'],\n",
       "      dtype='object')"
      ]
     },
     "execution_count": 12,
     "metadata": {},
     "output_type": "execute_result"
    }
   ],
   "source": [
    "dim_income_df.columns"
   ]
  },
  {
   "cell_type": "code",
   "execution_count": 15,
   "id": "945b75f3",
   "metadata": {},
   "outputs": [
    {
     "data": {
      "text/plain": [
       "Index(['GG', 'Zones', 'Transportation_Type', '3 or more vehicles available',\n",
       "       '2 vehicles available', '1 vehicle available', 'No vehicle available',\n",
       "       'Male', 'Female', '16 to 19 years', '20 to 24 years', '25 to 44 years',\n",
       "       '45 to 54 years', '55 to 59 years', '60 years and over',\n",
       "       'Earnings $1 to $9,999 or loss', 'Earnings $10,000 to $14,999',\n",
       "       'Earnings $15,000 to $24,999', 'Earnings $25,000 to $34,999',\n",
       "       'Earnings $35,000 to $49,999', 'Earnings $50,000 to $64,999',\n",
       "       'earnings $65,000 to $74,999', 'earnings $75,000 or more',\n",
       "       'Foreign born - Not in US born',\n",
       "       'Foreign born - Naturalized U.S. citizen', 'Foreign born'],\n",
       "      dtype='object')"
      ]
     },
     "execution_count": 15,
     "metadata": {},
     "output_type": "execute_result"
    }
   ],
   "source": [
    "agg_dim_carpooled_df.columns"
   ]
  },
  {
   "cell_type": "code",
   "execution_count": null,
   "id": "5b001046",
   "metadata": {},
   "outputs": [],
   "source": []
  }
 ],
 "metadata": {
  "kernelspec": {
   "display_name": "Python 3 (ipykernel)",
   "language": "python",
   "name": "python3"
  },
  "language_info": {
   "codemirror_mode": {
    "name": "ipython",
    "version": 3
   },
   "file_extension": ".py",
   "mimetype": "text/x-python",
   "name": "python",
   "nbconvert_exporter": "python",
   "pygments_lexer": "ipython3",
   "version": "3.11.5"
  }
 },
 "nbformat": 4,
 "nbformat_minor": 5
}
